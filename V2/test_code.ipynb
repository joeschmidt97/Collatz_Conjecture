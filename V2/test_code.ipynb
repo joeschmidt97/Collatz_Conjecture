{
 "cells": [
  {
   "cell_type": "code",
   "execution_count": null,
   "metadata": {},
   "outputs": [],
   "source": []
  },
  {
   "cell_type": "code",
   "execution_count": 3,
   "metadata": {},
   "outputs": [],
   "source": [
    "\n",
    "def odd_int_check(x):\n",
    "    # check if given input is an odd integer, if not return an error\n",
    "    if x % 2 != 0 and isinstance(x,int):\n",
    "        pass\n",
    "    else:\n",
    "        raise ValueError(f'The number given {x} must be an odd integer.')\n",
    "\n",
    "\n",
    "\n",
    "\n",
    "def count_r_steps(q, n):\n",
    "    odd_int_check(q) #check if variable is an odd integer\n",
    "    odd_int_check(n) #check if variable is an odd integer\n",
    "\n",
    "    r_count = 0\n",
    "    n = q * n + 1 #perform odd operation\n",
    "        \n",
    "    # perform even operations and keep count\n",
    "    while n % 2 == 0: \n",
    "        n /= 2\n",
    "        r_count += 1\n",
    "        \n",
    "    return r_count\n",
    "\n",
    "\n",
    "\n",
    "\n",
    "\n",
    "def write_r_families(q, int_i, int_f, r_cutoff=float('inf')):\n",
    "\n",
    "    odd_int_check(int_i) #check if variable is an odd integer\n",
    "\n",
    "    r_dict = {}\n",
    "\n",
    "    # create list of odd integers to get r-steps\n",
    "    for n in range(int_i, int_f, 2):\n",
    "        r_count = count_r_steps(q, n) # get r vale\n",
    "\n",
    "        # Check if the key exists in r_families, and create it if it doesn't\n",
    "        if r_count not in r_dict:\n",
    "            r_dict[r_count] = []\n",
    "\n",
    "        # Only add the odd to its r-family if there is space (i.e. r-family is below cutoff length)\n",
    "        if len(r_dict[r_count]) < r_cutoff:\n",
    "            r_dict[r_count].append(n)\n",
    "\n",
    "    # Sort the r-families by increasing r-value\n",
    "    sorted_r_dict = dict(sorted(r_dict.items()))\n",
    "\n",
    "    sorted_r_dict['q'] = q\n",
    "\n",
    "    return sorted_r_dict\n",
    "\n",
    "\n",
    "\n",
    "\n",
    "\n",
    "\n",
    "import csv\n",
    "\n",
    "def r_dict_to_csv(r_dict):\n",
    "    # Create a CSV file and write the data\n",
    "    with open('output.csv', mode='w', newline='') as file:\n",
    "        writer = csv.writer(file)\n",
    "        writer.writerow(['q', r_dict['q']])\n",
    "        writer.writerow(['odd_count', 'r', 'odds'])\n",
    "        for key, values in r_dict.items():\n",
    "\n",
    "            if isinstance(key, int):\n",
    "                writer.writerow([len(values), key] + values)\n",
    "\n",
    "\n"
   ]
  },
  {
   "cell_type": "code",
   "execution_count": 4,
   "metadata": {},
   "outputs": [
    {
     "name": "stdout",
     "output_type": "stream",
     "text": [
      "1 [3, 7, 11, 15, 19]\n",
      "2 [5, 13, 21, 29, 37]\n",
      "3 [1, 17, 33, 49, 65]\n",
      "4 [9, 41, 73, 105, 137]\n",
      "5 [25, 89, 153, 217, 281]\n",
      "6 [57, 185, 313, 441, 569]\n",
      "7 [249, 505, 761, 1017, 1273]\n",
      "8 [377, 889, 1401, 1913, 2425]\n",
      "9 [121, 1145, 2169, 3193, 4217]\n",
      "10 [1657, 3705, 5753, 7801]\n",
      "11 [633, 4729]\n",
      "12 [6777]\n",
      "14 [2681]\n",
      "q 55\n"
     ]
    }
   ],
   "source": [
    "# count_r_steps(5, 7)\n",
    "r_dict = write_r_families(55, 1, 8000, 5)\n",
    "\n",
    "\n",
    "for k in r_dict.keys():\n",
    "    print(k, r_dict[k])\n",
    "\n",
    "\n",
    "r_dict_to_csv(r_dict)\n",
    "\n",
    "\n"
   ]
  },
  {
   "cell_type": "code",
   "execution_count": null,
   "metadata": {},
   "outputs": [],
   "source": []
  },
  {
   "cell_type": "code",
   "execution_count": null,
   "metadata": {},
   "outputs": [],
   "source": []
  }
 ],
 "metadata": {
  "kernelspec": {
   "display_name": "base",
   "language": "python",
   "name": "python3"
  },
  "language_info": {
   "codemirror_mode": {
    "name": "ipython",
    "version": 3
   },
   "file_extension": ".py",
   "mimetype": "text/x-python",
   "name": "python",
   "nbconvert_exporter": "python",
   "pygments_lexer": "ipython3",
   "version": "3.9.12"
  },
  "orig_nbformat": 4
 },
 "nbformat": 4,
 "nbformat_minor": 2
}
